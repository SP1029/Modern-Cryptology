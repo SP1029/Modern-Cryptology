{
 "cells": [
  {
   "cell_type": "code",
   "execution_count": 1,
   "metadata": {},
   "outputs": [],
   "source": [
    "from collections import Counter\n",
    "from colorama import Fore"
   ]
  },
  {
   "cell_type": "code",
   "execution_count": 2,
   "metadata": {},
   "outputs": [],
   "source": [
    "with open(\"./cipher.txt\", \"r\") as f:\n",
    "    text = f.read()\n",
    "    original_text = text\n",
    "    text = text.lower()"
   ]
  },
  {
   "cell_type": "code",
   "execution_count": 3,
   "metadata": {},
   "outputs": [],
   "source": [
    "text_counter = Counter()\n",
    "total_chars = 0\n",
    "for ch in text:\n",
    "    if ch.isalpha():\n",
    "        text_counter.update([ch.lower()])\n",
    "        total_chars += 1"
   ]
  },
  {
   "cell_type": "code",
   "execution_count": 4,
   "metadata": {},
   "outputs": [],
   "source": [
    "def decode_text(key):\n",
    "    for ix, ch in enumerate(text):\n",
    "        if ch.isalpha() and (key[ch])[1]==1:\n",
    "            if original_text[ix].isupper():\n",
    "                print(Fore.RED + key[ch][0].upper(), end=\"\")\n",
    "            else:\n",
    "                print(Fore.RED + key[ch][0], end=\"\")\n",
    "        elif ch.isnumeric():\n",
    "            new_ch = chr(((int(ch) - 4)%10 + 10)%10 + ord('0'))\n",
    "            print(Fore.RED + str(new_ch), end=\"\")\n",
    "        else:\n",
    "            if original_text[ix].isupper():\n",
    "                print(Fore.BLACK + ch.upper(), end=\"\")\n",
    "            else:\n",
    "                print(Fore.BLACK + ch, end=\"\")"
   ]
  },
  {
   "cell_type": "code",
   "execution_count": 5,
   "metadata": {},
   "outputs": [
    {
     "name": "stdout",
     "output_type": "stream",
     "text": [
      "y 13.95\n",
      "m 10.85\n",
      "a 10.46\n",
      "w 9.689\n",
      "e 8.527\n",
      "g 5.426\n",
      "s 5.038\n",
      "p 5.038\n",
      "h 4.651\n",
      "i 3.488\n",
      "j 2.713\n",
      "o 2.713\n",
      "n 2.713\n",
      "t 2.325\n",
      "u 2.325\n",
      "r 1.937\n",
      "k 1.937\n",
      "v 1.550\n",
      "f 1.550\n",
      "x 1.162\n",
      "d 1.162\n",
      "b 0.775\n"
     ]
    }
   ],
   "source": [
    "text_frequency = {}\n",
    "for ch, count in text_counter.most_common():\n",
    "    text_frequency[ch] = count / total_chars * 100\n",
    "    \n",
    "for ch, percent in text_frequency.items():\n",
    "    print(ch, str(percent)[:5])"
   ]
  },
  {
   "cell_type": "code",
   "execution_count": 6,
   "metadata": {},
   "outputs": [],
   "source": [
    "key = {}\n",
    "key['a'] = 's', 1\n",
    "key['b'] = 'v', 1\n",
    "key['c'] = 'c', 0\n",
    "key['d'] = 'q', 1\n",
    "key['e'] = 'h', 1\n",
    "key['f'] = 'p', 1\n",
    "key['g'] = 'o', 1\n",
    "key['h'] = 'n', 1\n",
    "key['i'] = 'c', 1\n",
    "key['j'] = 'm', 1\n",
    "key['k'] = 'l', 1\n",
    "key['l'] = 'l', 0\n",
    "key['m'] = 't', 1\n",
    "key['n'] = 'u', 1\n",
    "key['o'] = 'b', 1\n",
    "key['p'] = 'a', 1\n",
    "key['q'] = 'q', 0\n",
    "key['r'] = 'g', 1\n",
    "key['s'] = 'r', 1\n",
    "key['t'] = 'f', 1\n",
    "key['u'] = 'd', 1\n",
    "key['v'] = 'w', 1\n",
    "key['w'] = 'i', 1\n",
    "key['x'] = 'y', 1\n",
    "key['y'] = 'e', 1\n",
    "key['z'] = 'z', 0"
   ]
  },
  {
   "cell_type": "code",
   "execution_count": 7,
   "metadata": {},
   "outputs": [
    {
     "name": "stdout",
     "output_type": "stream",
     "text": [
      "\u001b[31mT\u001b[31mh\u001b[31mi\u001b[31ms\u001b[30m \u001b[31mi\u001b[31ms\u001b[30m \u001b[31mt\u001b[31mh\u001b[31me\u001b[30m \u001b[31mf\u001b[31mi\u001b[31mr\u001b[31ms\u001b[31mt\u001b[30m \u001b[31mc\u001b[31mh\u001b[31ma\u001b[31mm\u001b[31mb\u001b[31me\u001b[31mr\u001b[30m \u001b[31mo\u001b[31mf\u001b[30m \u001b[31mt\u001b[31mh\u001b[31me\u001b[30m \u001b[31mc\u001b[31ma\u001b[31mv\u001b[31me\u001b[31ms\u001b[30m.\u001b[30m\n",
      "\u001b[31mA\u001b[31ms\u001b[30m \u001b[31my\u001b[31mo\u001b[31mu\u001b[30m \u001b[31mc\u001b[31ma\u001b[31mn\u001b[30m \u001b[31ms\u001b[31me\u001b[31me\u001b[30m,\u001b[30m \u001b[31mt\u001b[31mh\u001b[31me\u001b[31mr\u001b[31me\u001b[30m \u001b[31mi\u001b[31ms\u001b[30m \u001b[31mn\u001b[31mo\u001b[31mt\u001b[31mh\u001b[31mi\u001b[31mn\u001b[31mg\u001b[30m \u001b[31mo\u001b[31mf\u001b[30m\n",
      "\u001b[31mi\u001b[31mn\u001b[31mt\u001b[31me\u001b[31mr\u001b[31me\u001b[31ms\u001b[31mt\u001b[30m \u001b[31mi\u001b[31mn\u001b[30m \u001b[31mt\u001b[31mh\u001b[31me\u001b[30m \u001b[31mc\u001b[31mh\u001b[31ma\u001b[31mm\u001b[31mb\u001b[31me\u001b[31mr\u001b[30m.\u001b[30m \u001b[31mS\u001b[31mo\u001b[31mm\u001b[31me\u001b[30m \u001b[31mo\u001b[31mf\u001b[30m \u001b[31mt\u001b[31mh\u001b[31me\u001b[30m \u001b[31ml\u001b[31ma\u001b[31mt\u001b[31me\u001b[31mr\u001b[30m\n",
      "\u001b[31mc\u001b[31mh\u001b[31ma\u001b[31mm\u001b[31mb\u001b[31me\u001b[31mr\u001b[31ms\u001b[30m \u001b[31mw\u001b[31mi\u001b[31ml\u001b[31ml\u001b[30m \u001b[31mb\u001b[31me\u001b[30m \u001b[31mm\u001b[31mo\u001b[31mr\u001b[31me\u001b[30m \u001b[31mi\u001b[31mn\u001b[31mt\u001b[31me\u001b[31mr\u001b[31me\u001b[31ms\u001b[31mt\u001b[31mi\u001b[31mn\u001b[31mg\u001b[30m \u001b[31mt\u001b[31mh\u001b[31ma\u001b[31mn\u001b[30m\n",
      "\u001b[31mt\u001b[31mh\u001b[31mi\u001b[31ms\u001b[30m \u001b[31mo\u001b[31mn\u001b[31me\u001b[30m!\u001b[30m \u001b[31mT\u001b[31mh\u001b[31me\u001b[30m \u001b[31mc\u001b[31mo\u001b[31md\u001b[31me\u001b[30m \u001b[31mu\u001b[31ms\u001b[31me\u001b[31md\u001b[30m \u001b[31mf\u001b[31mo\u001b[31mr\u001b[30m \u001b[31mt\u001b[31mh\u001b[31mi\u001b[31ms\u001b[30m \u001b[31mm\u001b[31me\u001b[31ms\u001b[31ms\u001b[31ma\u001b[31mg\u001b[31me\u001b[30m\n",
      "\u001b[31mi\u001b[31ms\u001b[30m \u001b[31ma\u001b[30m \u001b[31ms\u001b[31mi\u001b[31mm\u001b[31mp\u001b[31ml\u001b[31me\u001b[30m \u001b[31ms\u001b[31mu\u001b[31mb\u001b[31ms\u001b[31mt\u001b[31mi\u001b[31mt\u001b[31mu\u001b[31mt\u001b[31mi\u001b[31mo\u001b[31mn\u001b[30m \u001b[31mc\u001b[31mi\u001b[31mp\u001b[31mh\u001b[31me\u001b[31mr\u001b[30m \u001b[31mi\u001b[31mn\u001b[30m \u001b[31mw\u001b[31mh\u001b[31mi\u001b[31mc\u001b[31mh\u001b[30m\n",
      "\u001b[31md\u001b[31mi\u001b[31mg\u001b[31mi\u001b[31mt\u001b[31ms\u001b[30m \u001b[31mh\u001b[31ma\u001b[31mv\u001b[31me\u001b[30m \u001b[31mb\u001b[31me\u001b[31me\u001b[31mn\u001b[30m \u001b[31ms\u001b[31mh\u001b[31mi\u001b[31mf\u001b[31mt\u001b[31me\u001b[31md\u001b[30m \u001b[31mb\u001b[31my\u001b[30m \u001b[31m4\u001b[30m \u001b[31mp\u001b[31ml\u001b[31ma\u001b[31mc\u001b[31me\u001b[31ms\u001b[30m.\u001b[30m\n",
      "\u001b[31mT\u001b[31mh\u001b[31me\u001b[30m \u001b[31mp\u001b[31ma\u001b[31ms\u001b[31ms\u001b[31mw\u001b[31mo\u001b[31mr\u001b[31md\u001b[30m \u001b[31mi\u001b[31ms\u001b[30m \u001b[30m\"\u001b[31mt\u001b[31my\u001b[31mR\u001b[31mg\u001b[31mU\u001b[31m6\u001b[31m9\u001b[31md\u001b[31mi\u001b[31mq\u001b[31mq\u001b[30m\"\u001b[30m \u001b[31mw\u001b[31mi\u001b[31mt\u001b[31mh\u001b[31mo\u001b[31mu\u001b[31mt\u001b[30m \u001b[31mt\u001b[31mh\u001b[31me\u001b[30m\n",
      "\u001b[31mq\u001b[31mu\u001b[31mo\u001b[31mt\u001b[31me\u001b[31ms\u001b[30m."
     ]
    }
   ],
   "source": [
    "decode_text(key)"
   ]
  },
  {
   "cell_type": "code",
   "execution_count": null,
   "metadata": {},
   "outputs": [],
   "source": []
  }
 ],
 "metadata": {
  "kernelspec": {
   "display_name": ".venv",
   "language": "python",
   "name": "python3"
  },
  "language_info": {
   "codemirror_mode": {
    "name": "ipython",
    "version": 3
   },
   "file_extension": ".py",
   "mimetype": "text/x-python",
   "name": "python",
   "nbconvert_exporter": "python",
   "pygments_lexer": "ipython3",
   "version": "3.10.12"
  }
 },
 "nbformat": 4,
 "nbformat_minor": 2
}
