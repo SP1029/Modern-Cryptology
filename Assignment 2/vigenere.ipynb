{
 "cells": [
  {
   "cell_type": "code",
   "execution_count": 1,
   "metadata": {},
   "outputs": [],
   "source": [
    "with open(\"./cipher.txt\", \"r\") as f:\n",
    "    text = f.read()\n",
    "    original_text = text\n",
    "    text = text.lower()"
   ]
  },
  {
   "cell_type": "code",
   "execution_count": 2,
   "metadata": {},
   "outputs": [],
   "source": [
    "def decode_text(key):\n",
    "    key_ix = 0\n",
    "    for ix, ch in enumerate(text):\n",
    "        if ch.isalpha() and key_val[key_ix]!=0:\n",
    "            if original_text[ix].isupper():\n",
    "                print(key[key_ix](ch).upper(), end=\"\")\n",
    "            else:\n",
    "                print(key[key_ix](ch), end=\"\")\n",
    "        else:\n",
    "            if original_text[ix].isupper():\n",
    "                print(ch.upper(), end=\"\")\n",
    "            else:\n",
    "                print(ch, end=\"\")\n",
    "        if ch.isalpha():\n",
    "            key_ix = key_ix + 1\n",
    "            key_ix = key_ix % KEY_SIZE"
   ]
  },
  {
   "cell_type": "code",
   "execution_count": 3,
   "metadata": {},
   "outputs": [],
   "source": [
    "def shift(ch, val):\n",
    "    return chr( (ord(ch) - ord('a') + val)%26 + ord('a') )"
   ]
  },
  {
   "cell_type": "code",
   "execution_count": 4,
   "metadata": {},
   "outputs": [],
   "source": [
    "KEY_SIZE = 9\n",
    "\n",
    "key_val = [10, 2, 6, 2, 3, 5, 2, 2, 1]\n",
    "\n",
    "key = [None] * KEY_SIZE\n",
    "for i in range(KEY_SIZE):\n",
    "    key[i] = (lambda ii_tmp: lambda x: shift(x, -int(key_val[ii_tmp])))(i)"
   ]
  },
  {
   "cell_type": "code",
   "execution_count": 5,
   "metadata": {},
   "outputs": [
    {
     "name": "stdout",
     "output_type": "stream",
     "text": [
      "Be wary of the next chamber, there is very little joy there.\n",
      "Speak out the password \"the_cave_man_be_pleased\" to go through.\n",
      "May you have the strength for the next chamber. To find the exit\n",
      "you first will need to utter magic words there."
     ]
    }
   ],
   "source": [
    "decode_text(key)"
   ]
  }
 ],
 "metadata": {
  "kernelspec": {
   "display_name": ".venv",
   "language": "python",
   "name": "python3"
  },
  "language_info": {
   "codemirror_mode": {
    "name": "ipython",
    "version": 3
   },
   "file_extension": ".py",
   "mimetype": "text/x-python",
   "name": "python",
   "nbconvert_exporter": "python",
   "pygments_lexer": "ipython3",
   "version": "3.11.0"
  }
 },
 "nbformat": 4,
 "nbformat_minor": 2
}
