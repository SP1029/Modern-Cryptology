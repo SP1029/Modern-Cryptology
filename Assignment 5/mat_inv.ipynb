{
 "cells": [
  {
   "cell_type": "code",
   "execution_count": 1,
   "metadata": {},
   "outputs": [],
   "source": [
    "from supporting_functions import *\n",
    "from cryptanalysis import *\n",
    "from constants import *\n",
    "import dill"
   ]
  },
  {
   "cell_type": "code",
   "execution_count": 2,
   "metadata": {},
   "outputs": [],
   "source": [
    "with open(\"A\", \"rb\") as f:\n",
    "    M = dill.load(f)"
   ]
  },
  {
   "cell_type": "code",
   "execution_count": 3,
   "metadata": {},
   "outputs": [
    {
     "data": {
      "text/plain": [
       "[[84, 0, 0, 0, 0, 0, 0, 0],\n",
       " [112, 70, 0, 0, 0, 0, 0, 0],\n",
       " [14, 31, 43, 0, 0, 0, 0, 0],\n",
       " [99, 17, 4, 12, 0, 0, 0, 0],\n",
       " [110, 61, 1, 123, 112, 0, 0, 0],\n",
       " [29, 53, 30, 47, 98, 11, 0, 0],\n",
       " [15, 123, 20, 102, 28, 89, 27, 0],\n",
       " [68, 2, 73, 27, 25, 70, 25, 38]]"
      ]
     },
     "execution_count": 3,
     "metadata": {},
     "output_type": "execute_result"
    }
   ],
   "source": [
    "M"
   ]
  },
  {
   "cell_type": "code",
   "execution_count": 4,
   "metadata": {},
   "outputs": [],
   "source": [
    "def get_inverse(p):\n",
    "    return power_poly(p, 126)"
   ]
  },
  {
   "cell_type": "code",
   "execution_count": 5,
   "metadata": {},
   "outputs": [
    {
     "data": {
      "text/plain": [
       "14"
      ]
     },
     "execution_count": 5,
     "metadata": {},
     "output_type": "execute_result"
    }
   ],
   "source": [
    "poly_to_int(get_inverse(int_to_poly(27)))"
   ]
  },
  {
   "cell_type": "code",
   "execution_count": 6,
   "metadata": {},
   "outputs": [
    {
     "data": {
      "text/plain": [
       "poly1d([1, 0, 0, 1, 0, 1])"
      ]
     },
     "execution_count": 6,
     "metadata": {},
     "output_type": "execute_result"
    }
   ],
   "source": [
    "mult_poly(int_to_poly(14), int_to_poly(29))"
   ]
  },
  {
   "cell_type": "code",
   "execution_count": 7,
   "metadata": {},
   "outputs": [],
   "source": [
    "M_inv = []\n",
    "for i in range(8):\n",
    "    M_inv.append([None]*8)\n",
    "    for j in range(8):\n",
    "        M_inv[i][j] = 0"
   ]
  },
  {
   "cell_type": "code",
   "execution_count": 8,
   "metadata": {},
   "outputs": [
    {
     "data": {
      "text/plain": [
       "[[0, 0, 0, 0, 0, 0, 0, 0],\n",
       " [0, 0, 0, 0, 0, 0, 0, 0],\n",
       " [0, 0, 0, 0, 0, 0, 0, 0],\n",
       " [0, 0, 0, 0, 0, 0, 0, 0],\n",
       " [0, 0, 0, 0, 0, 0, 0, 0],\n",
       " [0, 0, 0, 0, 0, 0, 0, 0],\n",
       " [0, 0, 0, 0, 0, 0, 0, 0],\n",
       " [0, 0, 0, 0, 0, 0, 0, 0]]"
      ]
     },
     "execution_count": 8,
     "metadata": {},
     "output_type": "execute_result"
    }
   ],
   "source": [
    "M_inv"
   ]
  },
  {
   "cell_type": "code",
   "execution_count": 9,
   "metadata": {},
   "outputs": [],
   "source": [
    "for i in range(7,-1,-1):\n",
    "    \n",
    "    target_vec = [None] * 8\n",
    "    \n",
    "    for j in range(8):\n",
    "        if j==i:\n",
    "            target_vec[j] = int_to_poly(1)\n",
    "        else:\n",
    "            target_vec[j] = int_to_poly(0)\n",
    "        \n",
    "    for j in range(8):\n",
    "        M_inv[j][i] = poly_to_int(mult_poly(target_vec[j], get_inverse(int_to_poly(M[j][j]))))\n",
    "        \n",
    "        for k in range(8):\n",
    "            # print(M_inv[j][i], M[k][j])\n",
    "            temp = mult_poly(int_to_poly(M_inv[j][i]), int_to_poly(M[k][j]))\n",
    "            target_vec[k] = add_poly(target_vec[k], temp)"
   ]
  },
  {
   "cell_type": "code",
   "execution_count": 10,
   "metadata": {},
   "outputs": [
    {
     "data": {
      "text/plain": [
       "[[67, 0, 0, 0, 0, 0, 0, 0],\n",
       " [81, 77, 0, 0, 0, 0, 0, 0],\n",
       " [40, 58, 96, 0, 0, 0, 0, 0],\n",
       " [80, 87, 32, 94, 0, 0, 0, 0],\n",
       " [55, 43, 74, 25, 19, 0, 0, 0],\n",
       " [63, 108, 119, 48, 113, 74, 0, 0],\n",
       " [101, 78, 15, 116, 1, 21, 14, 0],\n",
       " [31, 127, 36, 18, 110, 77, 23, 56]]"
      ]
     },
     "execution_count": 10,
     "metadata": {},
     "output_type": "execute_result"
    }
   ],
   "source": [
    "M_inv"
   ]
  },
  {
   "cell_type": "code",
   "execution_count": 11,
   "metadata": {},
   "outputs": [
    {
     "data": {
      "text/plain": [
       "[[84, 0, 0, 0, 0, 0, 0, 0],\n",
       " [112, 70, 0, 0, 0, 0, 0, 0],\n",
       " [14, 31, 43, 0, 0, 0, 0, 0],\n",
       " [99, 17, 4, 12, 0, 0, 0, 0],\n",
       " [110, 61, 1, 123, 112, 0, 0, 0],\n",
       " [29, 53, 30, 47, 98, 11, 0, 0],\n",
       " [15, 123, 20, 102, 28, 89, 27, 0],\n",
       " [68, 2, 73, 27, 25, 70, 25, 38]]"
      ]
     },
     "execution_count": 11,
     "metadata": {},
     "output_type": "execute_result"
    }
   ],
   "source": [
    "M"
   ]
  },
  {
   "cell_type": "code",
   "execution_count": 14,
   "metadata": {},
   "outputs": [
    {
     "data": {
      "text/plain": [
       "poly1d([1, 2, 2, 2, 2, 2, 1, 0])"
      ]
     },
     "execution_count": 14,
     "metadata": {},
     "output_type": "execute_result"
    }
   ],
   "source": [
    "int_to_poly(27)*int_to_poly(14)"
   ]
  },
  {
   "cell_type": "code",
   "execution_count": 12,
   "metadata": {},
   "outputs": [
    {
     "name": "stdout",
     "output_type": "stream",
     "text": [
      "[1, 0, 0, 0, 0, 0, 0, 0]\n",
      "[0, 1, 0, 0, 0, 0, 0, 0]\n",
      "[0, 0, 1, 0, 0, 0, 0, 0]\n",
      "[0, 0, 0, 1, 0, 0, 0, 0]\n",
      "[0, 0, 0, 0, 1, 0, 0, 0]\n",
      "[0, 0, 0, 0, 0, 1, 0, 0]\n",
      "[0, 0, 0, 0, 0, 0, 1, 0]\n",
      "[0, 0, 0, 0, 0, 0, 0, 1]\n"
     ]
    }
   ],
   "source": [
    "for i in range(8):\n",
    "    row = []\n",
    "    for j in range(8):\n",
    "        ans = int_to_poly(0)\n",
    "        for q in range(8):\n",
    "            temp = mult_poly(int_to_poly(M[i][q]), int_to_poly(M_inv[q][j]))\n",
    "            ans = add_poly(ans, temp)\n",
    "        row.append(poly_to_int(ans))\n",
    "    print(row)"
   ]
  },
  {
   "cell_type": "code",
   "execution_count": 13,
   "metadata": {},
   "outputs": [],
   "source": [
    "with open(\"A_inv\", \"wb\") as f:\n",
    "    dill.dump(M_inv, f)"
   ]
  },
  {
   "cell_type": "code",
   "execution_count": null,
   "metadata": {},
   "outputs": [],
   "source": []
  }
 ],
 "metadata": {
  "kernelspec": {
   "display_name": "Python 3",
   "language": "python",
   "name": "python3"
  },
  "language_info": {
   "codemirror_mode": {
    "name": "ipython",
    "version": 3
   },
   "file_extension": ".py",
   "mimetype": "text/x-python",
   "name": "python",
   "nbconvert_exporter": "python",
   "pygments_lexer": "ipython3",
   "version": "3.10.12"
  }
 },
 "nbformat": 4,
 "nbformat_minor": 2
}
