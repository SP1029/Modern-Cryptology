{
 "cells": [
  {
   "cell_type": "code",
   "execution_count": 1,
   "metadata": {},
   "outputs": [],
   "source": [
    "from supporting_functions import *\n",
    "from cryptanalysis import *\n",
    "from constants import *\n",
    "import dill"
   ]
  },
  {
   "cell_type": "code",
   "execution_count": 2,
   "metadata": {},
   "outputs": [],
   "source": [
    "masked_plain_texts = []\n",
    "masked_cipher_texts = []\n",
    "for b in range(8):\n",
    "    plain_texts = []\n",
    "    for i in range(128):\n",
    "        p = \"ff\"*(7-b)\n",
    "        p += int_to_str(i)\n",
    "        p += \"ff\"*(b)\n",
    "        plain_texts.append(p)\n",
    "    cipher_texts = encode_multiple(plain_texts)\n",
    "    masked_plain_texts.append(plain_texts)\n",
    "    masked_cipher_texts.append(cipher_texts)\n",
    "masked_plain_texts.reverse()\n",
    "masked_cipher_texts.reverse()"
   ]
  },
  {
   "cell_type": "code",
   "execution_count": 3,
   "metadata": {},
   "outputs": [],
   "source": [
    "E = [25, 19, 48, 93, 74, 39, 118, 22]\n",
    "M_diag = [38, 27, 11, 112, 12, 43, 70, 84]\n",
    "E.reverse()\n",
    "M_diag.reverse()"
   ]
  },
  {
   "cell_type": "code",
   "execution_count": 4,
   "metadata": {},
   "outputs": [],
   "source": [
    "M = []\n",
    "for i in range(8):\n",
    "    M.append([None]*8)\n",
    "    for j in range(8):\n",
    "        if i==j:\n",
    "            M[i][j] = M_diag[i]\n",
    "        else:\n",
    "            M[i][j] = 0"
   ]
  },
  {
   "cell_type": "code",
   "execution_count": 5,
   "metadata": {},
   "outputs": [
    {
     "name": "stdout",
     "output_type": "stream",
     "text": [
      "7 7 38\n",
      "6 6 27\n",
      "5 5 11\n",
      "4 4 112\n",
      "3 3 12\n",
      "2 2 43\n",
      "1 1 70\n",
      "0 0 84\n",
      "7 6 25\n",
      "6 5 89\n",
      "5 4 98\n",
      "4 3 123\n",
      "3 2 4\n",
      "2 1 31\n",
      "1 0 112\n",
      "7 5 70\n",
      "6 4 28\n",
      "5 3 47\n",
      "4 2 1\n",
      "3 1 17\n",
      "2 0 14\n",
      "7 4 25\n",
      "6 3 102\n",
      "5 2 30\n",
      "4 1 61\n",
      "3 0 99\n",
      "7 3 27\n",
      "6 2 20\n",
      "5 1 53\n",
      "4 0 110\n",
      "7 2 73\n",
      "6 1 123\n",
      "5 0 29\n",
      "7 1 2\n",
      "6 0 15\n",
      "7 0 68\n"
     ]
    }
   ],
   "source": [
    "for i in range(8):\n",
    "    for j in range(8-i):\n",
    "        r = 7 - j\n",
    "        c = 7 - i - j\n",
    "        \n",
    "        start = c\n",
    "        end = r\n",
    "        \n",
    "        plain_texts = masked_plain_texts[c]\n",
    "        cipher_texts = masked_cipher_texts[c]\n",
    "        \n",
    "        count = 0\n",
    "        ansb = -1\n",
    "        for b in range(128):\n",
    "            M[r][c] = b\n",
    "            flag = True\n",
    "            \n",
    "            for k in range(len(plain_texts)):\n",
    "                plain_text = plain_texts[k]\n",
    "                cipher_text = cipher_texts[k]\n",
    "                expected = pair_to_poly(cipher_text[2*r:2*(r+1)])\n",
    "                \n",
    "                myvec = []\n",
    "                for l in range(8):\n",
    "                    myvec.append(pair_to_poly(plain_text[2*l:2*(l+1)]))\n",
    "\n",
    "                # E\n",
    "                for l in range(8):\n",
    "                    myvec[l] = power_poly(myvec[l], E[l])\n",
    "                \n",
    "                # A\n",
    "                newvec = [None] * 8\n",
    "                for p in range(8):\n",
    "                    ans = int_to_poly(0)\n",
    "                    for q in range(8):\n",
    "                        temp = mult_poly(myvec[q], int_to_poly(M[p][q]))\n",
    "                        ans = add_poly(ans, temp)\n",
    "                    newvec[p] = ans\n",
    "                myvec = newvec\n",
    "                \n",
    "                # E\n",
    "                for l in range(8):\n",
    "                    myvec[l] = power_poly(myvec[l], E[l])\n",
    "                  \n",
    "                # A\n",
    "                newvec = [None] * 8\n",
    "                for p in range(8):\n",
    "                    ans = int_to_poly(0)\n",
    "                    for q in range(8):\n",
    "                        temp = mult_poly(myvec[q], int_to_poly(M[p][q]))\n",
    "                        ans = add_poly(ans, temp)\n",
    "                    newvec[p] = ans\n",
    "                myvec = newvec\n",
    "                \n",
    "                # E\n",
    "                for l in range(8):\n",
    "                    myvec[l] = power_poly(myvec[l], E[l])\n",
    "                    \n",
    "                if myvec[r]!=expected:\n",
    "                    flag = False\n",
    "                    break\n",
    "            \n",
    "            if flag==True:\n",
    "                ansb = b\n",
    "                count+=1 \n",
    "            \n",
    "        if count!=1:\n",
    "            print(\"Found not one\", r, c, count)\n",
    "        else:\n",
    "            M[r][c] = ansb\n",
    "            print(r,c,M[r][c])  \n",
    "        "
   ]
  },
  {
   "cell_type": "code",
   "execution_count": 6,
   "metadata": {},
   "outputs": [],
   "source": [
    "with open(\"A\",\"wb\") as f:\n",
    "    dill.dump(M, f)"
   ]
  },
  {
   "cell_type": "code",
   "execution_count": null,
   "metadata": {},
   "outputs": [],
   "source": []
  }
 ],
 "metadata": {
  "kernelspec": {
   "display_name": "Python 3",
   "language": "python",
   "name": "python3"
  },
  "language_info": {
   "codemirror_mode": {
    "name": "ipython",
    "version": 3
   },
   "file_extension": ".py",
   "mimetype": "text/x-python",
   "name": "python",
   "nbconvert_exporter": "python",
   "pygments_lexer": "ipython3",
   "version": "3.10.12"
  }
 },
 "nbformat": 4,
 "nbformat_minor": 2
}
