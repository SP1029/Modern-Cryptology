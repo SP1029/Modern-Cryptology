{
 "cells": [
  {
   "cell_type": "code",
   "execution_count": 1,
   "metadata": {},
   "outputs": [],
   "source": [
    "from supporting_functions import *\n",
    "from cryptanalysis import *\n",
    "from constants import *\n",
    "import dill"
   ]
  },
  {
   "cell_type": "code",
   "execution_count": 2,
   "metadata": {},
   "outputs": [],
   "source": [
    "with open(\"A_inv\", \"rb\") as f:\n",
    "    M_inv = dill.load(f)\n",
    "    \n",
    "with open(\"A\", \"rb\") as f:\n",
    "    M = dill.load(f)"
   ]
  },
  {
   "cell_type": "code",
   "execution_count": 3,
   "metadata": {},
   "outputs": [
    {
     "data": {
      "text/plain": [
       "[[67, 0, 0, 0, 0, 0, 0, 0],\n",
       " [81, 77, 0, 0, 0, 0, 0, 0],\n",
       " [40, 58, 96, 0, 0, 0, 0, 0],\n",
       " [80, 87, 32, 94, 0, 0, 0, 0],\n",
       " [55, 43, 74, 25, 19, 0, 0, 0],\n",
       " [63, 108, 119, 48, 113, 74, 0, 0],\n",
       " [101, 78, 15, 116, 1, 21, 14, 0],\n",
       " [31, 127, 36, 18, 110, 77, 23, 56]]"
      ]
     },
     "execution_count": 3,
     "metadata": {},
     "output_type": "execute_result"
    }
   ],
   "source": [
    "M_inv"
   ]
  },
  {
   "cell_type": "code",
   "execution_count": 4,
   "metadata": {},
   "outputs": [],
   "source": [
    "ENCODED_PASS = \"gslohjgmmhjfjqhkhlhfglgilsgmfufl\""
   ]
  },
  {
   "cell_type": "code",
   "execution_count": 5,
   "metadata": {},
   "outputs": [],
   "source": [
    "pass1 = ENCODED_PASS[:16]\n",
    "pass2 = ENCODED_PASS[16:]"
   ]
  },
  {
   "cell_type": "code",
   "execution_count": 6,
   "metadata": {},
   "outputs": [],
   "source": [
    "E = [25, 19, 48, 93, 74, 39, 118, 22]\n",
    "E.reverse()"
   ]
  },
  {
   "cell_type": "code",
   "execution_count": 7,
   "metadata": {},
   "outputs": [],
   "source": [
    "def inverse_e(p, mypower):\n",
    "    val = poly_to_int(p)\n",
    "    ix = np.where(POWER_MAT[mypower]==val)[0][0]\n",
    "    return int_to_poly(ix)"
   ]
  },
  {
   "cell_type": "code",
   "execution_count": 8,
   "metadata": {},
   "outputs": [],
   "source": [
    "def decode(mypass):\n",
    "    myvec = []\n",
    "    for i in range(8):\n",
    "        myvec.append(pair_to_poly(mypass[2*i:2*(i+1)]))\n",
    "    \n",
    "    # E\n",
    "    for i in range(8):\n",
    "        myvec[i] = inverse_e(myvec[i], E[i])\n",
    "        \n",
    "    # A\n",
    "    newvec = [None] * 8\n",
    "    for p in range(8):\n",
    "        ans = int_to_poly(0)\n",
    "        for q in range(8):\n",
    "            temp = mult_poly(myvec[q], int_to_poly(M_inv[p][q]))\n",
    "            ans = add_poly(ans, temp)\n",
    "        newvec[p] = ans\n",
    "    myvec = newvec\n",
    "        \n",
    "    # E\n",
    "    for i in range(8):\n",
    "        myvec[i] = inverse_e(myvec[i], E[i])\n",
    "        \n",
    "    # A\n",
    "    newvec = [None] * 8\n",
    "    for p in range(8):\n",
    "        ans = int_to_poly(0)\n",
    "        for q in range(8):\n",
    "            temp = mult_poly(myvec[q], int_to_poly(M_inv[p][q]))\n",
    "            ans = add_poly(ans, temp)\n",
    "        newvec[p] = ans\n",
    "    myvec = newvec\n",
    "       \n",
    "    for i in range(8):\n",
    "        myvec[i] = inverse_e(myvec[i], E[i])\n",
    "        \n",
    "    text = \"\"\n",
    "    for i in range(8):\n",
    "        text+=poly_to_pair(myvec[i])\n",
    "    print(text)\n",
    "      \n",
    "    ans = \"\"\n",
    "    for i in range(8):\n",
    "        ans+=chr(poly_to_int(myvec[i]))\n",
    "\n",
    "    return ans"
   ]
  },
  {
   "cell_type": "code",
   "execution_count": 9,
   "metadata": {},
   "outputs": [
    {
     "name": "stdout",
     "output_type": "stream",
     "text": [
      "mlmmmfmflkmklrml\n"
     ]
    },
    {
     "data": {
      "text/plain": [
       "'vwppeulv'"
      ]
     },
     "execution_count": 9,
     "metadata": {},
     "output_type": "execute_result"
    }
   ],
   "source": [
    "decode(pass1)"
   ]
  },
  {
   "cell_type": "code",
   "execution_count": 10,
   "metadata": {},
   "outputs": [
    {
     "name": "stdout",
     "output_type": "stream",
     "text": [
      "llmpifififififif\n"
     ]
    },
    {
     "data": {
      "text/plain": [
       "'fz000000'"
      ]
     },
     "execution_count": 10,
     "metadata": {},
     "output_type": "execute_result"
    }
   ],
   "source": [
    "decode(pass2)"
   ]
  },
  {
   "cell_type": "code",
   "execution_count": 11,
   "metadata": {},
   "outputs": [],
   "source": [
    "ans = \"vwppeulvfz\""
   ]
  },
  {
   "cell_type": "code",
   "execution_count": null,
   "metadata": {},
   "outputs": [],
   "source": []
  }
 ],
 "metadata": {
  "kernelspec": {
   "display_name": "Python 3",
   "language": "python",
   "name": "python3"
  },
  "language_info": {
   "codemirror_mode": {
    "name": "ipython",
    "version": 3
   },
   "file_extension": ".py",
   "mimetype": "text/x-python",
   "name": "python",
   "nbconvert_exporter": "python",
   "pygments_lexer": "ipython3",
   "version": "3.10.12"
  }
 },
 "nbformat": 4,
 "nbformat_minor": 2
}
