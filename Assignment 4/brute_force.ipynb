{
 "cells": [
  {
   "cell_type": "code",
   "execution_count": 1,
   "metadata": {},
   "outputs": [],
   "source": [
    "import sys\n",
    "sys.path.append(\"..\")"
   ]
  },
  {
   "cell_type": "code",
   "execution_count": 2,
   "metadata": {},
   "outputs": [],
   "source": [
    "from constants import *\n",
    "from supporting_functions import *\n",
    "from des_functions import *\n",
    "from cryptanalysis import *\n",
    "from collections import Counter\n",
    "import numpy as np"
   ]
  },
  {
   "cell_type": "code",
   "execution_count": 3,
   "metadata": {},
   "outputs": [],
   "source": [
    "key61 = \\\n",
    "'101101' + \\\n",
    "'111011' + \\\n",
    "'xxxxxx' + \\\n",
    "'000111' + \\\n",
    "'001100' + \\\n",
    "'011111' + \\\n",
    "'010001' + \\\n",
    "'110000'"
   ]
  },
  {
   "cell_type": "code",
   "execution_count": 4,
   "metadata": {},
   "outputs": [],
   "source": [
    "key62 = \\\n",
    "'101101' + \\\n",
    "'111011' + \\\n",
    "'100101' + \\\n",
    "'000111' + \\\n",
    "'001100' + \\\n",
    "'011111' + \\\n",
    "'010001' + \\\n",
    "'xxxxxx'"
   ]
  },
  {
   "cell_type": "code",
   "execution_count": 5,
   "metadata": {},
   "outputs": [
    {
     "data": {
      "text/plain": [
       "'101101111011100101000111001100011111010001110000'"
      ]
     },
     "execution_count": 5,
     "metadata": {},
     "output_type": "execute_result"
    }
   ],
   "source": [
    "key6 = \"\"\n",
    "for i in range(8):\n",
    "    if key61[6*i:6*(i+1)]!=\"xxxxxx\":\n",
    "        key6 += key61[6*i:6*(i+1)]\n",
    "    else:\n",
    "        key6 += key62[6*i:6*(i+1)]\n",
    "key6"
   ]
  },
  {
   "cell_type": "code",
   "execution_count": 6,
   "metadata": {},
   "outputs": [],
   "source": [
    "def find_indices_keys(key):\n",
    "    keys = []\n",
    "    y = np.array(key)\n",
    "    c = y[PERMUTED_CHOICE1C]\n",
    "    d = y[PERMUTED_CHOICE1D]\n",
    "    for i in range(16):\n",
    "        c = left_shift_find(c, KEY_SHIFT_SCHEDULE[i])\n",
    "        d = left_shift_find(d, KEY_SHIFT_SCHEDULE[i])\n",
    "        bit_string = np.concatenate([c,d])\n",
    "        y = np.array(list(bit_string))\n",
    "        round_key = y[PERMUTED_CHOICE2]\n",
    "        keys.append(round_key)\n",
    "        \n",
    "    return keys\n",
    "\n",
    "def left_shift_find(bit_string, count):\n",
    "    bit_string = np.concatenate([bit_string[count:], bit_string[:count]])\n",
    "    return bit_string"
   ]
  },
  {
   "cell_type": "code",
   "execution_count": 7,
   "metadata": {},
   "outputs": [],
   "source": [
    "key_indices = find_indices_keys(np.arange(0,64))"
   ]
  },
  {
   "cell_type": "code",
   "execution_count": 8,
   "metadata": {},
   "outputs": [],
   "source": [
    "found_index = []\n",
    "for a in key_indices[5]:\n",
    "    found_index.append(int(a))"
   ]
  },
  {
   "cell_type": "code",
   "execution_count": 9,
   "metadata": {},
   "outputs": [],
   "source": [
    "pending_index = []\n",
    "for i in range(64):\n",
    "    if i not in found_index:\n",
    "        pending_index.append(i)"
   ]
  },
  {
   "cell_type": "code",
   "execution_count": 10,
   "metadata": {},
   "outputs": [],
   "source": [
    "key = list(\"x\" * 64)\n",
    "for i in range(48):\n",
    "    ix = key_indices[5][i]\n",
    "    key[ix] = key6[i]"
   ]
  },
  {
   "cell_type": "code",
   "execution_count": 11,
   "metadata": {},
   "outputs": [
    {
     "data": {
      "text/plain": [
       "'001110xx1110111100100111x011x11xx0010x010111100010001x00'"
      ]
     },
     "execution_count": 11,
     "metadata": {},
     "output_type": "execute_result"
    }
   ],
   "source": [
    "found_key = \"\"\n",
    "for i in range(64):\n",
    "    if i%8!=7:\n",
    "        found_key+=key[i]\n",
    "found_key"
   ]
  },
  {
   "cell_type": "code",
   "execution_count": 20,
   "metadata": {},
   "outputs": [
    {
     "name": "stdout",
     "output_type": "stream",
     "text": [
      "['0', '0', '1', '1', '1', '0', 'x', 'x', 'x', '1', '1', '1', '0', '1', '1', 'x', '1', '1', '0', '0', '1', '0', '0', 'x', '1', '1', '1', 'x', '0', '1', '1', 'x', 'x', '1', '1', 'x', 'x', '0', '0', 'x', '1', '0', 'x', '0', '1', '0', '1', 'x', '1', '1', '1', '0', '0', '0', '1', 'x', '0', '0', '0', '1', 'x', '0', '0', 'x']\n"
     ]
    }
   ],
   "source": [
    "print(key)"
   ]
  },
  {
   "cell_type": "code",
   "execution_count": 29,
   "metadata": {},
   "outputs": [],
   "source": [
    "# PLAIN TEXT\n",
    "plain_texts = []\n",
    "cipher_texts = []\n",
    "for i in range(10):\n",
    "    p = bits_to_str(format(random.randint(0, 2**64-1), '064b'))\n",
    "    c = des_encode_single(p)\n",
    "    plain_texts.append(str_to_bits(p))\n",
    "    cipher_texts.append(str_to_bits(c))"
   ]
  },
  {
   "cell_type": "code",
   "execution_count": 39,
   "metadata": {},
   "outputs": [
    {
     "name": "stdout",
     "output_type": "stream",
     "text": [
      "0011101_1111011_1100100_1110011_0110100_1010101_1110001_0001000_\n"
     ]
    }
   ],
   "source": [
    "correct_key = None\n",
    "for i in range(2**8):\n",
    "    bit_string = format(i, '08b')\n",
    "    ixp = 0\n",
    "    ixf = 0\n",
    "    candidate_key = \"\"\n",
    "    for j in range(64):\n",
    "        if j%8==7:\n",
    "            continue\n",
    "        if j in found_index:\n",
    "            candidate_key+=found_key[ixf]\n",
    "            ixf+=1\n",
    "        else:\n",
    "            candidate_key+=bit_string[ixp]\n",
    "            ixf+=1\n",
    "            ixp+=1\n",
    "    \n",
    "    # Testing for the key\n",
    "    correct_key = True\n",
    "    candidate_key = add_parity_key(candidate_key)\n",
    "    keys = compute_keys(candidate_key)\n",
    "    for k in range(len(plain_texts)):\n",
    "        p = plain_texts[k]\n",
    "        c = cipher_texts[k]\n",
    "        produced_c = encode_des(p, keys, 6)\n",
    "        # print(candidate_key, produced_c)\n",
    "        if produced_c!=c:\n",
    "            correct_key = False\n",
    "            break\n",
    "        \n",
    "    if correct_key==True:\n",
    "        correct_key = candidate_key\n",
    "        print(candidate_key)"
   ]
  },
  {
   "cell_type": "code",
   "execution_count": null,
   "metadata": {},
   "outputs": [],
   "source": []
  }
 ],
 "metadata": {
  "kernelspec": {
   "display_name": "Python 3",
   "language": "python",
   "name": "python3"
  },
  "language_info": {
   "codemirror_mode": {
    "name": "ipython",
    "version": 3
   },
   "file_extension": ".py",
   "mimetype": "text/x-python",
   "name": "python",
   "nbconvert_exporter": "python",
   "pygments_lexer": "ipython3",
   "version": "3.10.12"
  }
 },
 "nbformat": 4,
 "nbformat_minor": 2
}
