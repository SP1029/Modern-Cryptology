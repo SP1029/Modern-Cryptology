{
 "cells": [
  {
   "cell_type": "code",
   "execution_count": 1,
   "metadata": {},
   "outputs": [],
   "source": [
    "from collections import Counter\n",
    "from cryptanalysis import *"
   ]
  },
  {
   "cell_type": "code",
   "execution_count": 2,
   "metadata": {},
   "outputs": [],
   "source": [
    "unique_lexemes = {}\n",
    "plain_texts = []\n",
    "for i in range(26):\n",
    "    for j in range(26):\n",
    "        ch1 = chr(ord('a') + i)\n",
    "        ch2 = chr(ord('a') + j)\n",
    "        plain_text = ch1 + ch2\n",
    "        plain_texts.append(plain_text)\n",
    "cipher_texts = des_encode_multiple(plain_texts)"
   ]
  },
  {
   "cell_type": "code",
   "execution_count": 3,
   "metadata": {},
   "outputs": [
    {
     "data": {
      "text/plain": [
       "Counter({'u': 802,\n",
       "         't': 777,\n",
       "         'h': 759,\n",
       "         'm': 758,\n",
       "         'o': 725,\n",
       "         'r': 720,\n",
       "         's': 702,\n",
       "         'i': 696,\n",
       "         'p': 690,\n",
       "         'q': 686,\n",
       "         'n': 621,\n",
       "         'l': 614,\n",
       "         'f': 603,\n",
       "         'k': 599,\n",
       "         'j': 577,\n",
       "         'g': 487})"
      ]
     },
     "execution_count": 3,
     "metadata": {},
     "output_type": "execute_result"
    }
   ],
   "source": [
    "c = Counter()\n",
    "for i in range(26):\n",
    "    for j in range(26):\n",
    "        ix = 26 * i + j\n",
    "        cipher_text = cipher_texts[ix]\n",
    "        c.update(cipher_text)\n",
    "        if cipher_text not in unique_lexemes:\n",
    "            unique_lexemes[cipher_text] = [plain_texts[ix]]\n",
    "        else:\n",
    "            unique_lexemes[cipher_text].append(plain_texts[ix])\n",
    "c"
   ]
  },
  {
   "cell_type": "code",
   "execution_count": 4,
   "metadata": {},
   "outputs": [
    {
     "name": "stdout",
     "output_type": "stream",
     "text": [
      "256\n"
     ]
    }
   ],
   "source": [
    "print(len(unique_lexemes))"
   ]
  },
  {
   "cell_type": "code",
   "execution_count": null,
   "metadata": {},
   "outputs": [],
   "source": []
  }
 ],
 "metadata": {
  "kernelspec": {
   "display_name": "Python 3",
   "language": "python",
   "name": "python3"
  },
  "language_info": {
   "codemirror_mode": {
    "name": "ipython",
    "version": 3
   },
   "file_extension": ".py",
   "mimetype": "text/x-python",
   "name": "python",
   "nbconvert_exporter": "python",
   "pygments_lexer": "ipython3",
   "version": "3.10.12"
  }
 },
 "nbformat": 4,
 "nbformat_minor": 2
}
