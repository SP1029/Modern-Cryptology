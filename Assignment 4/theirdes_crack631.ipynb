{
 "cells": [
  {
   "cell_type": "code",
   "execution_count": 1,
   "metadata": {},
   "outputs": [],
   "source": [
    "import sys\n",
    "sys.path.append(\"..\")"
   ]
  },
  {
   "cell_type": "code",
   "execution_count": 2,
   "metadata": {},
   "outputs": [],
   "source": [
    "from constants import *\n",
    "from supporting_functions import *\n",
    "from des_functions import *\n",
    "from cryptanalysis import *\n",
    "from collections import Counter"
   ]
  },
  {
   "cell_type": "code",
   "execution_count": 3,
   "metadata": {},
   "outputs": [
    {
     "data": {
      "text/plain": [
       "'1000100_0011010_1101110_0101000_1000101_0101101_1111111_0100011_'"
      ]
     },
     "execution_count": 3,
     "metadata": {},
     "output_type": "execute_result"
    }
   ],
   "source": [
    "key = format(random.randint(0,2**56-1), '056b')\n",
    "key = add_parity_key(key)\n",
    "keys = compute_keys(key)\n",
    "key"
   ]
  },
  {
   "cell_type": "code",
   "execution_count": 4,
   "metadata": {},
   "outputs": [],
   "source": [
    "# CHARACTERISTIC + 1 Round S-Boxes who hav 0 as input\n",
    "exp = expansion(THREE_ROUND_CHAR1_OP_XOR[32:])\n",
    "zero_ix = []\n",
    "s_box_op = \"\"\n",
    "for i in range(8):\n",
    "    if exp[6*i:6*(i+1)]=='0'*6:\n",
    "        zero_ix.append(i)\n",
    "        s_box_op+='0'*4\n",
    "    else:\n",
    "        s_box_op+='1'*4\n",
    "l_prev_mask = permutation(s_box_op)\n",
    "l_prev_mask = compute_xor(l_prev_mask, '1' * len(l_prev_mask))"
   ]
  },
  {
   "cell_type": "code",
   "execution_count": 5,
   "metadata": {},
   "outputs": [
    {
     "name": "stdout",
     "output_type": "stream",
     "text": [
      "[1061. 1077. 1077. 1077. 1089. 1092. 1093. 1098. 1099. 1101. 1101. 1101.\n",
      " 1104. 1105. 1106. 1106. 1110. 1114. 1114. 1117. 1118. 1120. 1121. 1121.\n",
      " 1123. 1124. 1125. 1126. 1126. 1129. 1131. 1131. 1131. 1133. 1134. 1134.\n",
      " 1135. 1136. 1139. 1139. 1140. 1143. 1143. 1145. 1147. 1148. 1150. 1152.\n",
      " 1154. 1155. 1155. 1156. 1156. 1158. 1160. 1161. 1162. 1162. 1165. 1168.\n",
      " 1176. 1178. 1180. 1604.]\n",
      "101101\n",
      "[1165. 1166. 1187. 1189. 1190. 1192. 1192. 1199. 1206. 1213. 1213. 1214.\n",
      " 1214. 1215. 1216. 1216. 1221. 1223. 1230. 1231. 1236. 1239. 1242. 1244.\n",
      " 1245. 1245. 1249. 1249. 1253. 1254. 1266. 1269. 1270. 1276. 1282. 1283.\n",
      " 1284. 1285. 1288. 1289. 1291. 1297. 1298. 1300. 1301. 1315. 1319. 1319.\n",
      " 1320. 1328. 1343. 1346. 1356. 1357. 1363. 1363. 1388. 1399. 1402. 1405.\n",
      " 1414. 1438. 1440. 3464.]\n",
      "111011\n",
      "[1929. 1933. 1944. 1972. 1982. 1988. 1989. 1993. 1996. 1997. 2000. 2000.\n",
      " 2002. 2007. 2012. 2013. 2014. 2016. 2017. 2018. 2024. 2026. 2027. 2027.\n",
      " 2032. 2034. 2036. 2040. 2045. 2046. 2049. 2052. 2053. 2057. 2058. 2061.\n",
      " 2061. 2062. 2065. 2070. 2071. 2071. 2073. 2074. 2075. 2075. 2080. 2083.\n",
      " 2083. 2085. 2088. 2095. 2100. 2107. 2112. 2113. 2119. 2122. 2126. 2129.\n",
      " 2138. 2144. 2180. 2210.]\n",
      "100111\n",
      "[ 978.  996. 1004. 1006. 1007. 1010. 1010. 1011. 1019. 1024. 1025. 1028.\n",
      " 1029. 1030. 1031. 1031. 1032. 1034. 1035. 1037. 1040. 1041. 1043. 1044.\n",
      " 1044. 1044. 1044. 1045. 1048. 1048. 1049. 1051. 1051. 1052. 1052. 1053.\n",
      " 1056. 1057. 1059. 1060. 1061. 1062. 1063. 1063. 1068. 1068. 1075. 1076.\n",
      " 1078. 1080. 1081. 1082. 1085. 1085. 1091. 1105. 1107. 1110. 1114. 1122.\n",
      " 1123. 1125. 1147. 1461.]\n",
      "000111\n",
      "[2002. 2018. 2023. 2030. 2036. 2039. 2040. 2041. 2044. 2049. 2055. 2058.\n",
      " 2059. 2062. 2068. 2072. 2075. 2075. 2076. 2077. 2078. 2081. 2083. 2091.\n",
      " 2094. 2096. 2097. 2097. 2097. 2099. 2101. 2103. 2103. 2103. 2104. 2105.\n",
      " 2106. 2107. 2107. 2108. 2113. 2113. 2113. 2114. 2114. 2115. 2119. 2121.\n",
      " 2122. 2124. 2124. 2125. 2125. 2129. 2129. 2130. 2132. 2135. 2139. 2149.\n",
      " 2158. 2160. 2161. 2679.]\n",
      "001100\n",
      "[2169. 2202. 2212. 2229. 2232. 2232. 2238. 2242. 2246. 2247. 2251. 2260.\n",
      " 2260. 2261. 2262. 2264. 2265. 2268. 2279. 2279. 2282. 2285. 2293. 2294.\n",
      " 2294. 2295. 2301. 2304. 2307. 2313. 2316. 2316. 2319. 2323. 2324. 2325.\n",
      " 2326. 2327. 2331. 2332. 2337. 2340. 2342. 2342. 2347. 2349. 2351. 2358.\n",
      " 2359. 2369. 2373. 2375. 2380. 2383. 2397. 2397. 2398. 2439. 2465. 2472.\n",
      " 2556. 2631. 2649. 4176.]\n",
      "011111\n",
      "[1037. 1069. 1071. 1086. 1096. 1097. 1099. 1101. 1103. 1108. 1109. 1111.\n",
      " 1116. 1119. 1123. 1124. 1127. 1128. 1129. 1129. 1134. 1135. 1135. 1138.\n",
      " 1139. 1140. 1142. 1142. 1145. 1146. 1147. 1151. 1152. 1152. 1156. 1157.\n",
      " 1161. 1162. 1164. 1164. 1165. 1168. 1170. 1172. 1174. 1176. 1179. 1179.\n",
      " 1182. 1185. 1187. 1192. 1195. 1201. 1205. 1206. 1211. 1212. 1213. 1234.\n",
      " 1240. 1253. 1276. 2241.]\n",
      "010001\n",
      "[2031. 2049. 2055. 2059. 2093. 2097. 2120. 2120. 2121. 2123. 2124. 2125.\n",
      " 2125. 2125. 2127. 2129. 2130. 2132. 2133. 2137. 2139. 2141. 2142. 2144.\n",
      " 2145. 2152. 2152. 2155. 2160. 2163. 2165. 2167. 2169. 2171. 2172. 2179.\n",
      " 2179. 2181. 2184. 2186. 2186. 2190. 2191. 2191. 2198. 2199. 2201. 2203.\n",
      " 2209. 2209. 2210. 2211. 2214. 2214. 2217. 2222. 2223. 2224. 2230. 2244.\n",
      " 2249. 2280. 2347. 2921.]\n",
      "110000\n"
     ]
    }
   ],
   "source": [
    "# PLAIN TEXT\n",
    "plain_texts = []\n",
    "plain_pairs = []\n",
    "for i in range(int(1e4)):\n",
    "    pair = get_pair(THREE_ROUND_CHAR1_IP_XOR)\n",
    "    input_pair = [bits_to_str(inv_initial_permutation(str_to_bits(pair[0]))),\n",
    "                    bits_to_str(inv_initial_permutation(str_to_bits(pair[1])))]\n",
    "    plain_pairs.append(input_pair)\n",
    "    plain_texts.append(input_pair[0])\n",
    "    plain_texts.append(input_pair[1])\n",
    "    \n",
    "# ENCODE\n",
    "cipher_texts = des_encode_multiple(plain_texts)\n",
    "\n",
    "# PAIRS\n",
    "cipher_pairs = []\n",
    "for i, c in enumerate(cipher_texts):\n",
    "    c_old = initial_permutation(str_to_bits(c))\n",
    "    c_new = c_old[32:] + c_old[:32]\n",
    "    if i%2==0:\n",
    "        cipher_pairs.append([c_new])\n",
    "    else:\n",
    "        cipher_pairs[-1].append(c_new)\n",
    "        \n",
    "output_xors = []\n",
    "for pair in cipher_pairs:\n",
    "    ans = compute_xor(pair[0], pair[1])\n",
    "    output_xors.append(ans)\n",
    "\n",
    "# S-BOX OUTPUT_XOR\n",
    "s_box_exp_op_xors = []\n",
    "s_box_ip_pairs = []\n",
    "for i,op_xor in enumerate(output_xors):\n",
    "    l_op_xor = op_xor[:32]\n",
    "    r_op_xor = op_xor[32:]\n",
    "    r_op_xor = inv_permutation(r_op_xor)\n",
    "    s_box_xor = r_op_xor\n",
    "    s_box_exp_op_xors.append(s_box_xor)\n",
    "    \n",
    "    r_prev_pair = cipher_pairs[i]\n",
    "    r_prev_pair = r_prev_pair[0][:32], r_prev_pair[1][:32]\n",
    "    r_prev_pair = expansion(r_prev_pair[0]), expansion(r_prev_pair[1])\n",
    "    s_box_ip_pairs.append(r_prev_pair)\n",
    "    \n",
    "   \n",
    "# TESTING FOR EACH BYTE AND EACH KEY\n",
    "counter = np.zeros([8,64])\n",
    "for j in range(64):\n",
    "    candidate_key = format(j, '06b') * 8\n",
    "    for k in range(len(s_box_exp_op_xors)):\n",
    "        s_box_op_xor = s_box_exp_op_xors[k]\n",
    "        s_box_ip_pair = s_box_ip_pairs[k]\n",
    "        s_box_ip_pair = compute_xor(s_box_ip_pair[0], candidate_key), compute_xor(s_box_ip_pair[1], candidate_key)\n",
    "        s_box_ip_xor = compute_xor(s_box_ip_pair[0], s_box_ip_pair[1])\n",
    "        s_box_op_pair = s_boxes_encode(s_box_ip_pair[0]), s_boxes_encode(s_box_ip_pair[1])\n",
    "        \n",
    "        masked_exp_op_xor = compute_and(l_prev_mask, s_box_op_xor)\n",
    "        masked_true_op_xor = compute_and(l_prev_mask, compute_xor(s_box_op_pair[0], s_box_op_pair[1]))\n",
    "        \n",
    "        # Rejecting those for which output xor is not possible\n",
    "        for i in range(8):\n",
    "            ip_xor = s_box_ip_xor[6*i:6*(i+1)]\n",
    "            op_xor = s_box_op_xor[4*i:4*(i+1)]\n",
    "            if op_xor not in ip_xor_to_op_xor[i][ip_xor]:\n",
    "                continue\n",
    "            \n",
    "            if masked_exp_op_xor[4*i:4*(i+1)]==masked_true_op_xor[4*i:4*(i+1)]:\n",
    "                counter[i][j]+=1\n",
    "    \n",
    "for i in range(8):\n",
    "    predicted_ix = np.argmax(counter[i])\n",
    "    counter[i].sort()\n",
    "    print(counter[i])\n",
    "    print(format(predicted_ix, '06b'))"
   ]
  }
 ],
 "metadata": {
  "kernelspec": {
   "display_name": "Python 3",
   "language": "python",
   "name": "python3"
  },
  "language_info": {
   "codemirror_mode": {
    "name": "ipython",
    "version": 3
   },
   "file_extension": ".py",
   "mimetype": "text/x-python",
   "name": "python",
   "nbconvert_exporter": "python",
   "pygments_lexer": "ipython3",
   "version": "3.10.12"
  }
 },
 "nbformat": 4,
 "nbformat_minor": 2
}
