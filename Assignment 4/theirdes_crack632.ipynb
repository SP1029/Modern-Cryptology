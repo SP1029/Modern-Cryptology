{
 "cells": [
  {
   "cell_type": "code",
   "execution_count": 6,
   "metadata": {},
   "outputs": [],
   "source": [
    "import sys\n",
    "sys.path.append(\"..\")"
   ]
  },
  {
   "cell_type": "code",
   "execution_count": 7,
   "metadata": {},
   "outputs": [],
   "source": [
    "from constants import *\n",
    "from supporting_functions import *\n",
    "from des_functions import *\n",
    "from cryptanalysis import *\n",
    "from collections import Counter"
   ]
  },
  {
   "cell_type": "code",
   "execution_count": 8,
   "metadata": {},
   "outputs": [
    {
     "data": {
      "text/plain": [
       "'1001000_1111001_0000111_1101100_1010001_0110010_0000000_0001101_'"
      ]
     },
     "execution_count": 8,
     "metadata": {},
     "output_type": "execute_result"
    }
   ],
   "source": [
    "key = format(random.randint(0,2**56-1), '056b')\n",
    "key = add_parity_key(key)\n",
    "keys = compute_keys(key)\n",
    "key"
   ]
  },
  {
   "cell_type": "code",
   "execution_count": 9,
   "metadata": {},
   "outputs": [],
   "source": [
    "# CHARACTERISTIC + 1 Round S-Boxes who hav 0 as input\n",
    "exp = expansion(THREE_ROUND_CHAR2_OP_XOR[32:])\n",
    "zero_ix = []\n",
    "s_box_op = \"\"\n",
    "for i in range(8):\n",
    "    if exp[6*i:6*(i+1)]=='0'*6:\n",
    "        zero_ix.append(i)\n",
    "        s_box_op+='0'*4\n",
    "    else:\n",
    "        s_box_op+='1'*4\n",
    "l_prev_mask = permutation(s_box_op)\n",
    "l_prev_mask = compute_xor(l_prev_mask, '1' * len(l_prev_mask))"
   ]
  },
  {
   "cell_type": "code",
   "execution_count": 10,
   "metadata": {},
   "outputs": [
    {
     "name": "stdout",
     "output_type": "stream",
     "text": [
      "[ 601.  613.  614.  624.  629.  633.  633.  633.  633.  634.  634.  635.\n",
      "  639.  640.  641.  641.  643.  646.  647.  648.  650.  652.  652.  655.\n",
      "  656.  657.  660.  660.  661.  661.  661.  661.  661.  662.  665.  666.\n",
      "  668.  670.  670.  672.  674.  677.  679.  679.  680.  683.  684.  688.\n",
      "  691.  692.  692.  692.  692.  696.  700.  708.  710.  714.  716.  720.\n",
      "  729.  763.  770. 1630.]\n",
      "101101\n",
      "[4032. 4034. 4072. 4074. 4076. 4086. 4090. 4092. 4094. 4095. 4102. 4104.\n",
      " 4104. 4107. 4108. 4108. 4109. 4111. 4117. 4120. 4123. 4124. 4125. 4126.\n",
      " 4128. 4130. 4131. 4132. 4133. 4134. 4134. 4136. 4141. 4142. 4144. 4146.\n",
      " 4150. 4152. 4161. 4164. 4164. 4166. 4167. 4168. 4170. 4172. 4175. 4182.\n",
      " 4183. 4191. 4192. 4194. 4194. 4194. 4198. 4204. 4205. 4207. 4209. 4216.\n",
      " 4218. 4270. 4283. 4607.]\n",
      "111011\n",
      "[1059. 1078. 1085. 1086. 1090. 1091. 1091. 1092. 1093. 1094. 1095. 1095.\n",
      " 1098. 1098. 1098. 1102. 1107. 1108. 1110. 1110. 1113. 1113. 1114. 1116.\n",
      " 1116. 1118. 1118. 1120. 1120. 1123. 1127. 1128. 1129. 1130. 1130. 1131.\n",
      " 1131. 1131. 1133. 1136. 1136. 1136. 1138. 1141. 1144. 1145. 1145. 1147.\n",
      " 1148. 1149. 1150. 1151. 1153. 1159. 1169. 1170. 1173. 1177. 1178. 1178.\n",
      " 1182. 1189. 1199. 1640.]\n",
      "100101\n",
      "[1947. 1965. 1974. 1986. 1987. 2000. 2000. 2003. 2005. 2006. 2010. 2021.\n",
      " 2022. 2024. 2036. 2040. 2046. 2048. 2056. 2058. 2059. 2059. 2060. 2068.\n",
      " 2070. 2073. 2076. 2077. 2081. 2082. 2084. 2088. 2088. 2097. 2097. 2101.\n",
      " 2102. 2104. 2106. 2106. 2106. 2110. 2114. 2135. 2146. 2157. 2161. 2161.\n",
      " 2167. 2170. 2176. 2196. 2198. 2202. 2211. 2228. 2230. 2237. 2247. 2261.\n",
      " 2277. 2297. 2580. 3937.]\n",
      "000111\n",
      "[ 613.  615.  622.  624.  635.  636.  640.  640.  640.  643.  645.  646.\n",
      "  646.  648.  652.  653.  654.  663.  667.  668.  669.  670.  671.  671.\n",
      "  673.  673.  674.  677.  679.  680.  682.  684.  684.  688.  688.  690.\n",
      "  690.  692.  694.  695.  695.  696.  697.  699.  702.  702.  703.  703.\n",
      "  705.  708.  711.  713.  713.  715.  720.  721.  722.  737.  740.  741.\n",
      "  751.  757.  784. 1709.]\n",
      "001100\n",
      "[4261. 4269. 4273. 4277. 4283. 4284. 4291. 4306. 4319. 4321. 4324. 4325.\n",
      " 4326. 4328. 4328. 4330. 4335. 4336. 4337. 4343. 4343. 4346. 4352. 4354.\n",
      " 4356. 4360. 4361. 4361. 4362. 4362. 4362. 4366. 4368. 4369. 4374. 4375.\n",
      " 4378. 4383. 4383. 4386. 4387. 4387. 4391. 4404. 4405. 4407. 4407. 4415.\n",
      " 4433. 4433. 4434. 4442. 4452. 4453. 4459. 4471. 4472. 4479. 4504. 4509.\n",
      " 4509. 4542. 4761. 5515.]\n",
      "011111\n",
      "[1019. 1035. 1037. 1040. 1042. 1045. 1046. 1054. 1059. 1062. 1063. 1064.\n",
      " 1067. 1072. 1075. 1078. 1078. 1078. 1078. 1079. 1081. 1081. 1081. 1081.\n",
      " 1083. 1089. 1092. 1093. 1099. 1100. 1101. 1101. 1102. 1107. 1107. 1112.\n",
      " 1112. 1112. 1116. 1117. 1118. 1119. 1120. 1121. 1121. 1124. 1126. 1128.\n",
      " 1128. 1129. 1129. 1133. 1135. 1141. 1142. 1145. 1145. 1148. 1154. 1156.\n",
      " 1156. 1158. 1159. 1395.]\n",
      "010001\n",
      "[1968. 1975. 1980. 1983. 1984. 1987. 1991. 1992. 1994. 1995. 2001. 2004.\n",
      " 2006. 2007. 2010. 2010. 2011. 2014. 2019. 2020. 2025. 2042. 2042. 2043.\n",
      " 2045. 2047. 2047. 2048. 2048. 2048. 2049. 2051. 2051. 2051. 2060. 2063.\n",
      " 2063. 2064. 2065. 2065. 2066. 2068. 2076. 2078. 2080. 2082. 2083. 2084.\n",
      " 2084. 2084. 2084. 2084. 2085. 2088. 2088. 2088. 2097. 2101. 2102. 2107.\n",
      " 2127. 2128. 2129. 2187.]\n",
      "110000\n"
     ]
    }
   ],
   "source": [
    "# PLAIN TEXT\n",
    "plain_texts = []\n",
    "plain_pairs = []\n",
    "for i in range(int(1e4)):\n",
    "    pair = get_pair(THREE_ROUND_CHAR2_IP_XOR)\n",
    "    input_pair = [bits_to_str(inv_initial_permutation(str_to_bits(pair[0]))),\n",
    "                    bits_to_str(inv_initial_permutation(str_to_bits(pair[1])))]\n",
    "    plain_pairs.append(input_pair)\n",
    "    plain_texts.append(input_pair[0])\n",
    "    plain_texts.append(input_pair[1])\n",
    "    \n",
    "# ENCODE\n",
    "cipher_texts = des_encode_multiple(plain_texts)\n",
    "\n",
    "# PAIRS\n",
    "cipher_pairs = []\n",
    "for i, c in enumerate(cipher_texts):\n",
    "    c_old = initial_permutation(str_to_bits(c))\n",
    "    c_new = c_old[32:] + c_old[:32]\n",
    "    if i%2==0:\n",
    "        cipher_pairs.append([c_new])\n",
    "    else:\n",
    "        cipher_pairs[-1].append(c_new)\n",
    "        \n",
    "output_xors = []\n",
    "for pair in cipher_pairs:\n",
    "    ans = compute_xor(pair[0], pair[1])\n",
    "    output_xors.append(ans)\n",
    "\n",
    "# S-BOX OUTPUT_XOR\n",
    "s_box_exp_op_xors = []\n",
    "s_box_ip_pairs = []\n",
    "for i,op_xor in enumerate(output_xors):\n",
    "    l_op_xor = op_xor[:32]\n",
    "    r_op_xor = op_xor[32:]\n",
    "    r_op_xor = inv_permutation(r_op_xor)\n",
    "    s_box_xor = r_op_xor\n",
    "    s_box_exp_op_xors.append(s_box_xor)\n",
    "    \n",
    "    r_prev_pair = cipher_pairs[i]\n",
    "    r_prev_pair = r_prev_pair[0][:32], r_prev_pair[1][:32]\n",
    "    r_prev_pair = expansion(r_prev_pair[0]), expansion(r_prev_pair[1])\n",
    "    s_box_ip_pairs.append(r_prev_pair)\n",
    "    \n",
    "   \n",
    "# TESTING FOR EACH BYTE AND EACH KEY\n",
    "counter = np.zeros([8,64])\n",
    "for j in range(64):\n",
    "    candidate_key = format(j, '06b') * 8\n",
    "    for k in range(len(s_box_exp_op_xors)):\n",
    "        s_box_op_xor = s_box_exp_op_xors[k]\n",
    "        s_box_ip_pair = s_box_ip_pairs[k]\n",
    "        s_box_ip_pair = compute_xor(s_box_ip_pair[0], candidate_key), compute_xor(s_box_ip_pair[1], candidate_key)\n",
    "        s_box_ip_xor = compute_xor(s_box_ip_pair[0], s_box_ip_pair[1])\n",
    "        s_box_op_pair = s_boxes_encode(s_box_ip_pair[0]), s_boxes_encode(s_box_ip_pair[1])\n",
    "        \n",
    "        masked_exp_op_xor = compute_and(l_prev_mask, s_box_op_xor)\n",
    "        masked_true_op_xor = compute_and(l_prev_mask, compute_xor(s_box_op_pair[0], s_box_op_pair[1]))\n",
    "        \n",
    "        # Rejecting those for which output xor is not possible\n",
    "        for i in range(8):\n",
    "            ip_xor = s_box_ip_xor[6*i:6*(i+1)]\n",
    "            op_xor = s_box_op_xor[4*i:4*(i+1)]\n",
    "            if op_xor not in ip_xor_to_op_xor[i][ip_xor]:\n",
    "                continue\n",
    "            \n",
    "            if masked_exp_op_xor[4*i:4*(i+1)]==masked_true_op_xor[4*i:4*(i+1)]:\n",
    "                counter[i][j]+=1\n",
    "    \n",
    "for i in range(8):\n",
    "    predicted_ix = np.argmax(counter[i])\n",
    "    counter[i].sort()\n",
    "    print(counter[i])\n",
    "    print(format(predicted_ix, '06b'))"
   ]
  }
 ],
 "metadata": {
  "kernelspec": {
   "display_name": "Python 3",
   "language": "python",
   "name": "python3"
  },
  "language_info": {
   "codemirror_mode": {
    "name": "ipython",
    "version": 3
   },
   "file_extension": ".py",
   "mimetype": "text/x-python",
   "name": "python",
   "nbconvert_exporter": "python",
   "pygments_lexer": "ipython3",
   "version": "3.10.12"
  }
 },
 "nbformat": 4,
 "nbformat_minor": 2
}
