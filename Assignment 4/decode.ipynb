{
 "cells": [
  {
   "cell_type": "code",
   "execution_count": 6,
   "metadata": {},
   "outputs": [],
   "source": [
    "import sys\n",
    "sys.path.append(\"..\")"
   ]
  },
  {
   "cell_type": "code",
   "execution_count": 7,
   "metadata": {},
   "outputs": [],
   "source": [
    "from constants import *\n",
    "from supporting_functions import *\n",
    "from des_functions import *\n",
    "from cryptanalysis import *\n",
    "from collections import Counter"
   ]
  },
  {
   "cell_type": "code",
   "execution_count": 8,
   "metadata": {},
   "outputs": [],
   "source": [
    "key = \"0011101_1111011_1100100_1110011_0110100_1010101_1110001_0001000_\""
   ]
  },
  {
   "cell_type": "code",
   "execution_count": 9,
   "metadata": {},
   "outputs": [],
   "source": [
    "cipher_text = \"itgrfqtihrqhumlrqfhpproripngokis\""
   ]
  },
  {
   "cell_type": "code",
   "execution_count": 10,
   "metadata": {},
   "outputs": [],
   "source": [
    "cipher_text1 = cipher_text[:16]\n",
    "cipher_text2 = cipher_text[16:]"
   ]
  },
  {
   "cell_type": "code",
   "execution_count": 12,
   "metadata": {},
   "outputs": [
    {
     "name": "stdout",
     "output_type": "stream",
     "text": [
      "mhmkmimflnmmlhlu\n",
      "lomhifififififif\n"
     ]
    }
   ],
   "source": [
    "keys = compute_keys(key)\n",
    "print(bits_to_str(decode_des(str_to_bits(cipher_text1), keys, 6)))\n",
    "print(bits_to_str(decode_des(str_to_bits(cipher_text2), keys, 6)))"
   ]
  },
  {
   "cell_type": "code",
   "execution_count": 16,
   "metadata": {},
   "outputs": [],
   "source": [
    "plain_text = \"mhmkmimflnmmlhlulomhifififififif\""
   ]
  },
  {
   "cell_type": "code",
   "execution_count": 20,
   "metadata": {},
   "outputs": [],
   "source": [
    "bit_string = str_to_bits(plain_text[:16]) + str_to_bits(plain_text[16:])\n",
    "bit_string"
   ]
  },
  {
   "cell_type": "code",
   "execution_count": 23,
   "metadata": {},
   "outputs": [
    {
     "data": {
      "text/plain": [
       "[114, 117, 115, 112, 104, 119, 98, 111, 105, 114, 48, 48, 48, 48, 48, 48]"
      ]
     },
     "execution_count": 23,
     "metadata": {},
     "output_type": "execute_result"
    }
   ],
   "source": [
    "bytes = []\n",
    "for i in range(16):\n",
    "    bytes.append(int(bit_string[8*i:8*(i+1)], 2))\n",
    "bytes"
   ]
  },
  {
   "cell_type": "code",
   "execution_count": 25,
   "metadata": {},
   "outputs": [
    {
     "name": "stdout",
     "output_type": "stream",
     "text": [
      "rusphwboir000000"
     ]
    }
   ],
   "source": [
    "for b in bytes:\n",
    "    print(chr(b), end=\"\")"
   ]
  }
 ],
 "metadata": {
  "kernelspec": {
   "display_name": "Python 3",
   "language": "python",
   "name": "python3"
  },
  "language_info": {
   "codemirror_mode": {
    "name": "ipython",
    "version": 3
   },
   "file_extension": ".py",
   "mimetype": "text/x-python",
   "name": "python",
   "nbconvert_exporter": "python",
   "pygments_lexer": "ipython3",
   "version": "3.10.12"
  }
 },
 "nbformat": 4,
 "nbformat_minor": 2
}
