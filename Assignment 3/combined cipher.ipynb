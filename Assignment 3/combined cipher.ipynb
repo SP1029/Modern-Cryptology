{
 "cells": [
  {
   "cell_type": "code",
   "execution_count": 1,
   "metadata": {},
   "outputs": [],
   "source": [
    "from collections import Counter\n",
    "from copy import deepcopy as cpy"
   ]
  },
  {
   "cell_type": "code",
   "execution_count": 2,
   "metadata": {},
   "outputs": [],
   "source": [
    "with open(\"./cipher.txt\", \"r\") as f:\n",
    "    text = f.read()\n",
    "    original_text = text\n",
    "    text = text.lower()"
   ]
  },
  {
   "cell_type": "markdown",
   "metadata": {},
   "source": [
    "### Frequency Analysis"
   ]
  },
  {
   "cell_type": "code",
   "execution_count": 3,
   "metadata": {},
   "outputs": [],
   "source": [
    "text_counter = Counter()\n",
    "total_chars = 0\n",
    "for ch in text:\n",
    "    if ch.isalpha():\n",
    "        text_counter.update([ch.lower()])\n",
    "        total_chars += 1"
   ]
  },
  {
   "cell_type": "code",
   "execution_count": 4,
   "metadata": {},
   "outputs": [
    {
     "name": "stdout",
     "output_type": "stream",
     "text": [
      "q 10.56\n",
      "v 10.21\n",
      "a 8.098\n",
      "c 7.746\n",
      "w 6.690\n",
      "f 6.690\n",
      "l 5.985\n",
      "t 4.577\n",
      "y 4.577\n",
      "s 3.873\n",
      "p 3.873\n",
      "n 3.521\n",
      "r 3.169\n",
      "x 2.816\n",
      "g 2.816\n",
      "e 2.464\n",
      "d 2.464\n",
      "j 2.112\n",
      "u 2.112\n",
      "m 1.760\n",
      "h 1.760\n",
      "b 1.056\n",
      "k 0.704\n",
      "i 0.352\n"
     ]
    }
   ],
   "source": [
    "text_frequency = {}\n",
    "for ch, count in text_counter.most_common():\n",
    "    text_frequency[ch] = count / total_chars * 100\n",
    "    \n",
    "for ch, percent in text_frequency.items():\n",
    "    print(ch, str(percent)[:5])"
   ]
  },
  {
   "cell_type": "markdown",
   "metadata": {},
   "source": [
    "### Repeating Words and Character Sequences"
   ]
  },
  {
   "cell_type": "code",
   "execution_count": 5,
   "metadata": {},
   "outputs": [
    {
     "name": "stdout",
     "output_type": "stream",
     "text": [
      "Counter({3: 17, 4: 16, 2: 15, 7: 5, 6: 5, 5: 5, 8: 4, 1: 2, 9: 1, 17: 1})\n",
      "Counter({'fv': 3, 'xja': 2, 'eas': 2, 'qmnjvsa': 1, 'nv': 1, 'wewc': 1, 'flct': 1, 'vprj': 1, 'tj': 1, 'tvvplvl': 1, 'vqildhc': 1, 'xmlnvc': 1, 'nacyclpa': 1, 'fc': 1, 'gyt': 1, 'vfvw.': 1, 'wgqyp,': 1, 'pqq': 1, 'pqcs': 1, 'y': 1, 'wsq': 1, 'rx': 1, 'qmnjvafy': 1, 'cgv': 1, 'tlvhf': 1, 'cw': 1, 'tyl': 1, 'aeuq': 1, 'tkbv': 1, 'cqnsqs.': 1, 'lhf': 1, 'avawnc': 1, 'cv': 1, 'fuqb': 1, 'qvq': 1, 'tc': 1, 'yllrqr': 1, 'xxwa': 1, 'cfy.': 1, 'psdc': 1, 'uqf': 1, 'avrqc': 1, 'gefq': 1, 'pyat': 1, 'trac': 1, 'xwv': 1, 'taa': 1, 'wwd': 1, 'dv': 1, 'flcbq.': 1, 'vd': 1, 'trawm': 1, 'vupq': 1, 'quw': 1, 'x': 1, 'decgqcwt,': 1, 'yq': 1, 'yafl': 1, 'vlqs': 1, 'yqklhq!': 1, 'snafq': 1, 'vml': 1, 'lhvqpawr': 1, 'nqg_vfusr_ec_wawy': 1, 'qp': 1, 'fn': 1, 'wgawdgf.': 1})\n"
     ]
    }
   ],
   "source": [
    "c1 = Counter()\n",
    "c2 = Counter()\n",
    "words = text.split()\n",
    "for w in words:\n",
    "    c1.update([len(w)])\n",
    "    c2.update([w])\n",
    "print(c1)\n",
    "print(c2)"
   ]
  },
  {
   "cell_type": "code",
   "execution_count": 6,
   "metadata": {},
   "outputs": [
    {
     "name": "stdout",
     "output_type": "stream",
     "text": [
      "q,0 m,1 n,2 j,3 v,4 s,5 a,6  n,7 v,8  w,9 e,10 w,11 c,12  f,13 l,14 c,15 t,16  v,17 p,18 r,19 j,20  t,21 j,22  t,23 v,24 v,25 p,26 l,27 v,28 l,29  f,30 v,31  x,32 j,33 a,34  v,35 q,36 i,37 l,38 d,39 h,40 c,41 \n",
      "x,42 m,43 l,44 n,45 v,46 c,47  n,48 a,49 c,50 y,51 c,52 l,53 p,54 a,55  f,56 c,57  g,58 y,59 t,60  v,61 f,62 v,63 w,64 . f,65 v,66  w,67 g,68 q,69 y,70 p,71 , p,72 q,73 q,74  p,75 q,76 c,77 s,78  y,79  w,80 s,81 q,82 \n",
      "r,83 x,84  q,85 m,86 n,87 j,88 v,89 a,90 f,91 y,92  c,93 g,94 v,95  t,96 l,97 v,98 h,99 f,100  c,101 w,102  t,103 y,104 l,105  a,106 e,107 u,108 q,109  f,110 v,111  x,112 j,113 a,114  t,115 k,116 b,117 v,118  c,119 q,120 n,121 s,122 q,123 s,124 .\n",
      "l,125 h,126 f,127  a,128 v,129 a,130 w,131 n,132 c,133  c,134 v,135  e,136 a,137 s,138  f,139 u,140 q,141 b,142  q,143 v,144 q,145  t,146 c,147  y,148 l,149 l,150 r,151 q,152 r,153  x,154 x,155 w,156 a,157  c,158 f,159 y,160 . p,161 s,162 d,163 c,164  u,165 q,166 f,167 \n",
      "a,168 v,169 r,170 q,171 c,172  g,173 e,174 f,175 q,176  p,177 y,178 a,179 t,180  t,181 r,182 a,183 c,184  x,185 w,186 v,187  t,188 a,189 a,190  w,191 w,192 d,193  d,194 v,195  e,196 a,197 s,198  f,199 l,200 c,201 b,202 q,203 . v,204 d,205  t,206 r,207 a,208 w,209 m,210 \n",
      "v,211 u,212 p,213 q,214  q,215 u,216 w,217  x,218  d,219 e,220 c,221 g,222 q,223 c,224 w,225 t,226 , y,227 q,228  y,229 a,230 f,231 l,232  v,233 l,234 q,235 s,236  y,237 q,238 k,239 l,240 h,241 q,242 ! s,243 n,244 a,245 f,246 q,247  v,248 m,249 l,250 \n",
      "l,251 h,252 v,253 q,254 p,255 a,256 w,257 r,258  n,259 q,260 g,261 _v,262 f,263 u,264 s,265 r,266 _e,267 c,268 _w,269 a,270 w,271 y,272  q,273 p,274  f,275 n,276  w,277 g,278 a,279 w,280 d,281 g,282 f,283 ."
     ]
    }
   ],
   "source": [
    "char_ix = 0\n",
    "for ix, ch in enumerate(text):\n",
    "    if ch.isalpha():\n",
    "        print(ch + \",\" + str(char_ix), end=\" \")\n",
    "        char_ix+=1\n",
    "    else:\n",
    "        print(ch, end=\"\")"
   ]
  },
  {
   "cell_type": "code",
   "execution_count": 7,
   "metadata": {},
   "outputs": [
    {
     "name": "stdout",
     "output_type": "stream",
     "text": [
      "Counter({'qmnjv': 2, 'fvxja': 2, 'veasf': 2, 'sanvw': 1, 'ewcfl': 1, 'ctvpr': 1, 'jtjtv': 1, 'vplvl': 1, 'vqild': 1, 'hcxml': 1, 'nvcna': 1, 'cyclp': 1, 'afcgy': 1, 'tvfvw': 1, 'fvwgq': 1, 'yppqq': 1, 'pqcsy': 1, 'wsqrx': 1, 'afycg': 1, 'vtlvh': 1, 'fcwty': 1, 'laeuq': 1, 'tkbvc': 1, 'qnsqs': 1, 'lhfav': 1, 'awncc': 1, 'uqbqv': 1, 'qtcyl': 1, 'lrqrx': 1, 'xwacf': 1, 'ypsdc': 1, 'uqfav': 1, 'rqcge': 1, 'fqpya': 1, 'ttrac': 1, 'xwvta': 1, 'awwdd': 1, 'lcbqv': 1, 'dtraw': 1, 'mvupq': 1, 'quwxd': 1, 'ecgqc': 1, 'wtyqy': 1, 'aflvl': 1, 'qsyqk': 1, 'lhqsn': 1, 'afqvm': 1, 'llhvq': 1, 'pawrn': 1, 'qgvfu': 1, 'srecw': 1, 'awyqp': 1, 'fnwga': 1})\n"
     ]
    }
   ],
   "source": [
    "c = Counter()\n",
    "penta_gram = \"\"\n",
    "for ch in text:\n",
    "    if ch.isalpha():\n",
    "        ch = ch.lower()\n",
    "        penta_gram+=ch\n",
    "        if len(penta_gram)==5:\n",
    "            c.update([penta_gram])\n",
    "            penta_gram = \"\"\n",
    "print(c)"
   ]
  },
  {
   "cell_type": "markdown",
   "metadata": {},
   "source": [
    "### Substitution Decryption"
   ]
  },
  {
   "cell_type": "code",
   "execution_count": 8,
   "metadata": {},
   "outputs": [],
   "source": [
    "def decode_text(key):\n",
    "    for ix, ch in enumerate(text):\n",
    "        if ch.isalpha() and (key[ch])[1]==1:\n",
    "            if original_text[ix].isupper():\n",
    "                print(key[ch][0].upper(), end=\"\")\n",
    "            else:\n",
    "                print(key[ch][0], end=\"\")\n",
    "        else:\n",
    "            if original_text[ix].isupper():\n",
    "                print(ch.upper(), end=\"\")\n",
    "            else:\n",
    "                print(ch, end=\"\")"
   ]
  },
  {
   "cell_type": "markdown",
   "metadata": {},
   "source": [
    "### Permutation Decryption"
   ]
  },
  {
   "cell_type": "code",
   "execution_count": 9,
   "metadata": {},
   "outputs": [],
   "source": [
    "KEY_SIZE = 5\n",
    "def shuffle(text):\n",
    "    \n",
    "    shift_key = [3, 2, 4, 0, 1]\n",
    "    \n",
    "    text1 = cpy(text)\n",
    "    char_count = 0\n",
    "    char_list = []\n",
    "    for ch in text1:\n",
    "        if ch.isalpha():\n",
    "            char_count+=1\n",
    "            char_list.append(ch)\n",
    "    \n",
    "    block_count = char_count // KEY_SIZE\n",
    "    char_list_new = []\n",
    "    for i in range(block_count):\n",
    "        for j in range(KEY_SIZE):\n",
    "            char_list_new.append(char_list[i*KEY_SIZE+shift_key[j]])\n",
    "    trailing = char_count - block_count*KEY_SIZE\n",
    "    \n",
    "    for j in range(trailing):\n",
    "        char_list_new.append(char_list[block_count*KEY_SIZE+j])\n",
    "        \n",
    "    ix = 0\n",
    "    text2 = \"\"\n",
    "    for ch in text1:\n",
    "        if ch.isalpha():\n",
    "            text2 += char_list_new[ix]\n",
    "            ix+=1\n",
    "        else:\n",
    "            text2 += ch\n",
    "            \n",
    "    return text2"
   ]
  },
  {
   "cell_type": "code",
   "execution_count": 10,
   "metadata": {},
   "outputs": [],
   "source": [
    "text = shuffle(text)"
   ]
  },
  {
   "cell_type": "code",
   "execution_count": 11,
   "metadata": {},
   "outputs": [],
   "source": [
    "key = {}\n",
    "key['a'] = 't', 1\n",
    "key['b'] = 'v', 1\n",
    "key['c'] = 'i', 1\n",
    "key['d'] = 'u', 1\n",
    "key['e'] = 'c', 1\n",
    "key['f'] = 'h', 1\n",
    "key['g'] = 'g', 1\n",
    "key['h'] = 'p', 1\n",
    "key['i'] = 'q', 1\n",
    "key['j'] = 'b', 1\n",
    "key['k'] = 'z', 1\n",
    "key['l'] = 's', 1\n",
    "key['m'] = 'k', 1\n",
    "key['n'] = 'r', 1\n",
    "key['o'] = 'b', 0\n",
    "key['p'] = 'd', 1\n",
    "key['q'] = 'a', 1\n",
    "key['r'] = 'w', 1\n",
    "key['s'] = 'f', 1\n",
    "key['t'] = 'l', 1\n",
    "key['u'] = 'm', 1\n",
    "key['v'] = 'e', 1\n",
    "key['w'] = 'o', 1\n",
    "key['x'] = 'y', 1\n",
    "key['y'] = 'n', 1\n",
    "key['z'] = 'z', 0"
   ]
  },
  {
   "cell_type": "code",
   "execution_count": 12,
   "metadata": {},
   "outputs": [
    {
     "name": "stdout",
     "output_type": "stream",
     "text": [
      "breaker of this code will be blessed by the squeaky\n",
      "spirit residing in the hole. go ahead, and find a way\n",
      "of breaking the spell on him cast by the evil zaffar.\n",
      "the spirit of the cave man is always with you. find the\n",
      "magic wand that will let you out of the caves. it would\n",
      "make you a magician, no less than zaffar! speak the\n",
      "password the_magic_of_wand to go through."
     ]
    }
   ],
   "source": [
    "decode_text(key)"
   ]
  },
  {
   "cell_type": "code",
   "execution_count": null,
   "metadata": {},
   "outputs": [],
   "source": []
  }
 ],
 "metadata": {
  "kernelspec": {
   "display_name": ".venv",
   "language": "python",
   "name": "python3"
  },
  "language_info": {
   "codemirror_mode": {
    "name": "ipython",
    "version": 3
   },
   "file_extension": ".py",
   "mimetype": "text/x-python",
   "name": "python",
   "nbconvert_exporter": "python",
   "pygments_lexer": "ipython3",
   "version": "3.11.0"
  }
 },
 "nbformat": 4,
 "nbformat_minor": 2
}
